{
 "cells": [
  {
   "cell_type": "code",
   "execution_count": 25,
   "outputs": [],
   "source": [
    "import pandas as pd\n",
    "import matplotlib.pyplot as plt"
   ],
   "metadata": {
    "collapsed": false,
    "pycharm": {
     "name": "#%%\n"
    }
   }
  },
  {
   "cell_type": "code",
   "execution_count": 26,
   "outputs": [],
   "source": [
    "# cdf = pd.read_csv(\"./C421b77eb6e25e4022875b85896a9937f319605e9.csv\", sep=\"\\t\")\n",
    "# tdf = pd.read_csv(\"./T421b77eb6e25e4022875b85896a9937f319605e9.csv\", sep=\"\\t\")"
   ],
   "metadata": {
    "collapsed": false,
    "pycharm": {
     "name": "#%%\n"
    }
   }
  },
  {
   "cell_type": "code",
   "execution_count": 27,
   "outputs": [],
   "source": [
    "cdf = pd.read_csv(\"./CMerged.csv\", sep=\"\\t\")\n",
    "tdf = pd.read_csv(\"./TMerged.csv\", sep=\"\\t\")"
   ],
   "metadata": {
    "collapsed": false,
    "pycharm": {
     "name": "#%%\n"
    }
   }
  },
  {
   "cell_type": "code",
   "execution_count": 28,
   "outputs": [
    {
     "data": {
      "text/plain": "(555200, 3)"
     },
     "execution_count": 28,
     "metadata": {},
     "output_type": "execute_result"
    }
   ],
   "source": [
    "cdf.shape"
   ],
   "metadata": {
    "collapsed": false,
    "pycharm": {
     "name": "#%%\n"
    }
   }
  },
  {
   "cell_type": "code",
   "execution_count": 29,
   "outputs": [
    {
     "data": {
      "text/plain": "(28330, 3)"
     },
     "execution_count": 29,
     "metadata": {},
     "output_type": "execute_result"
    }
   ],
   "source": [
    "tdf.shape"
   ],
   "metadata": {
    "collapsed": false,
    "pycharm": {
     "name": "#%%\n"
    }
   }
  },
  {
   "cell_type": "code",
   "execution_count": 30,
   "outputs": [
    {
     "data": {
      "text/plain": "                                                test_name\nsha                                      state           \n421b77eb6e25e4022875b85896a9937f319605e9 0          12209\n                                         1            115\n503451ff079656b464ad5a8d1fd9d5f476a16c2d 0           5187\n                                         1             22\n7dc174e02612fd51428ac30bde0d0d3079f7e890 0          10732\n                                         1             65",
      "text/html": "<div>\n<style scoped>\n    .dataframe tbody tr th:only-of-type {\n        vertical-align: middle;\n    }\n\n    .dataframe tbody tr th {\n        vertical-align: top;\n    }\n\n    .dataframe thead th {\n        text-align: right;\n    }\n</style>\n<table border=\"1\" class=\"dataframe\">\n  <thead>\n    <tr style=\"text-align: right;\">\n      <th></th>\n      <th></th>\n      <th>test_name</th>\n    </tr>\n    <tr>\n      <th>sha</th>\n      <th>state</th>\n      <th></th>\n    </tr>\n  </thead>\n  <tbody>\n    <tr>\n      <th rowspan=\"2\" valign=\"top\">421b77eb6e25e4022875b85896a9937f319605e9</th>\n      <th>0</th>\n      <td>12209</td>\n    </tr>\n    <tr>\n      <th>1</th>\n      <td>115</td>\n    </tr>\n    <tr>\n      <th rowspan=\"2\" valign=\"top\">503451ff079656b464ad5a8d1fd9d5f476a16c2d</th>\n      <th>0</th>\n      <td>5187</td>\n    </tr>\n    <tr>\n      <th>1</th>\n      <td>22</td>\n    </tr>\n    <tr>\n      <th rowspan=\"2\" valign=\"top\">7dc174e02612fd51428ac30bde0d0d3079f7e890</th>\n      <th>0</th>\n      <td>10732</td>\n    </tr>\n    <tr>\n      <th>1</th>\n      <td>65</td>\n    </tr>\n  </tbody>\n</table>\n</div>"
     },
     "execution_count": 30,
     "metadata": {},
     "output_type": "execute_result"
    }
   ],
   "source": [
    "tdf.groupby([\"sha\", \"state\"]).count()"
   ],
   "metadata": {
    "collapsed": false,
    "pycharm": {
     "name": "#%%\n"
    }
   }
  },
  {
   "cell_type": "code",
   "execution_count": 32,
   "outputs": [
    {
     "data": {
      "text/plain": "                                                file_name\nsha                                      state           \n421b77eb6e25e4022875b85896a9937f319605e9 0         471835\n                                         1             85\n503451ff079656b464ad5a8d1fd9d5f476a16c2d 0          77714\n                                         1             14\n7dc174e02612fd51428ac30bde0d0d3079f7e890 0           5552",
      "text/html": "<div>\n<style scoped>\n    .dataframe tbody tr th:only-of-type {\n        vertical-align: middle;\n    }\n\n    .dataframe tbody tr th {\n        vertical-align: top;\n    }\n\n    .dataframe thead th {\n        text-align: right;\n    }\n</style>\n<table border=\"1\" class=\"dataframe\">\n  <thead>\n    <tr style=\"text-align: right;\">\n      <th></th>\n      <th></th>\n      <th>file_name</th>\n    </tr>\n    <tr>\n      <th>sha</th>\n      <th>state</th>\n      <th></th>\n    </tr>\n  </thead>\n  <tbody>\n    <tr>\n      <th rowspan=\"2\" valign=\"top\">421b77eb6e25e4022875b85896a9937f319605e9</th>\n      <th>0</th>\n      <td>471835</td>\n    </tr>\n    <tr>\n      <th>1</th>\n      <td>85</td>\n    </tr>\n    <tr>\n      <th rowspan=\"2\" valign=\"top\">503451ff079656b464ad5a8d1fd9d5f476a16c2d</th>\n      <th>0</th>\n      <td>77714</td>\n    </tr>\n    <tr>\n      <th>1</th>\n      <td>14</td>\n    </tr>\n    <tr>\n      <th>7dc174e02612fd51428ac30bde0d0d3079f7e890</th>\n      <th>0</th>\n      <td>5552</td>\n    </tr>\n  </tbody>\n</table>\n</div>"
     },
     "execution_count": 32,
     "metadata": {},
     "output_type": "execute_result"
    }
   ],
   "source": [
    "cdf.groupby([\"sha\", \"state\"]).count()"
   ],
   "metadata": {
    "collapsed": false,
    "pycharm": {
     "name": "#%%\n"
    }
   }
  },
  {
   "cell_type": "code",
   "execution_count": null,
   "outputs": [],
   "source": [],
   "metadata": {
    "collapsed": false,
    "pycharm": {
     "name": "#%%\n"
    }
   }
  }
 ],
 "metadata": {
  "kernelspec": {
   "display_name": "Python 3",
   "language": "python",
   "name": "python3"
  },
  "language_info": {
   "codemirror_mode": {
    "name": "ipython",
    "version": 2
   },
   "file_extension": ".py",
   "mimetype": "text/x-python",
   "name": "python",
   "nbconvert_exporter": "python",
   "pygments_lexer": "ipython2",
   "version": "2.7.6"
  }
 },
 "nbformat": 4,
 "nbformat_minor": 0
}