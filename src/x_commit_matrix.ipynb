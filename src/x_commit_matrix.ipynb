{
 "cells": [
  {
   "cell_type": "code",
   "execution_count": 128,
   "metadata": {
    "collapsed": true,
    "pycharm": {
     "name": "#%%\n"
    }
   },
   "outputs": [
    {
     "data": {
      "text/plain": "'/Users/whenessel/Development/PycharmProjects/appsurify-testbrain-core/src'"
     },
     "execution_count": 128,
     "metadata": {},
     "output_type": "execute_result"
    }
   ],
   "source": [
    "%pwd"
   ]
  },
  {
   "cell_type": "code",
   "execution_count": 129,
   "outputs": [],
   "source": [
    "\n",
    "import os\n",
    "import sys\n",
    "from asgiref.sync import sync_to_async\n",
    "import pandas as pd\n",
    "\n",
    "os.environ.setdefault(\"DJANGO_SETTINGS_MODULE\", \"system.settings\")\n",
    "os.environ[\"DJANGO_ALLOW_ASYNC_UNSAFE\"] = \"false\"\n",
    "\n",
    "import django\n",
    "\n",
    "django.setup()\n",
    "\n",
    "from django.conf import settings\n",
    "from django.db.models import Subquery, OuterRef, Exists, Q, Value, F\n",
    "from django.db.models.functions import MD5, Coalesce\n",
    "from applications.vcs.models import Commit, File, FileChange"
   ],
   "metadata": {
    "collapsed": false,
    "pycharm": {
     "name": "#%%\n"
    }
   }
  },
  {
   "cell_type": "code",
   "execution_count": 130,
   "outputs": [],
   "source": [
    "commit_qs = Commit.objects.filter(project_id=469, sha__in=[\"421b77eb6e25e4022875b85896a9937f319605e9\", \"7dc174e02612fd51428ac30bde0d0d3079f7e890\", \"503451ff079656b464ad5a8d1fd9d5f476a16c2d\"])\\\n",
    "    .order_by(\"-timestamp\")\\\n",
    "    .values(\"sha\", \"files__full_filename\")\\\n",
    "    .annotate(file_id=Coalesce(MD5(\"files__full_filename\"), MD5(Value(\"\"))))\\\n",
    "    .values(\"sha\", \"file_id\")\n",
    "\n",
    "commit_qs = commit_qs.order_by(\"?\")[:100]\n",
    "\n",
    "file_qs = File.objects.filter(project_id=469, children__isnull=True).only(\"full_filename\")\\\n",
    "    .annotate(file_id=MD5(\"full_filename\"), file_name=F(\"full_filename\"))\\\n",
    "    .values(\"file_id\", \"file_name\")\n"
   ],
   "metadata": {
    "collapsed": false,
    "pycharm": {
     "name": "#%%\n"
    }
   }
  },
  {
   "cell_type": "code",
   "execution_count": 131,
   "outputs": [
    {
     "name": "stdout",
     "output_type": "stream",
     "text": [
      "(100, 2)\n",
      "<class 'pandas.core.frame.DataFrame'>\n",
      "RangeIndex: 100 entries, 0 to 99\n",
      "Data columns (total 2 columns):\n",
      " #   Column   Non-Null Count  Dtype \n",
      "---  ------   --------------  ----- \n",
      " 0   sha      100 non-null    object\n",
      " 1   file_id  100 non-null    object\n",
      "dtypes: object(2)\n",
      "memory usage: 18.3 KB\n"
     ]
    }
   ],
   "source": [
    "df_commits = pd.DataFrame(commit_qs)\n",
    "df_commits[\"file_id\"].fillna(0, inplace=True)\n",
    "df_commits[\"file_id\"] = df_commits[\"file_id\"].astype(\"str\")\n",
    "print(df_commits.shape)\n",
    "df_commits.info(memory_usage=\"deep\")"
   ],
   "metadata": {
    "collapsed": false,
    "pycharm": {
     "name": "#%%\n"
    }
   }
  },
  {
   "cell_type": "code",
   "execution_count": 132,
   "outputs": [
    {
     "data": {
      "text/plain": "                                         sha                           file_id\n0   421b77eb6e25e4022875b85896a9937f319605e9  10a5f1004ff2dd28b22f7f9afa36f383\n1   421b77eb6e25e4022875b85896a9937f319605e9  89332d1ba456ba8c882048f633247f70\n2   421b77eb6e25e4022875b85896a9937f319605e9  1684c91333183206aea75054a6bfafdf\n3   421b77eb6e25e4022875b85896a9937f319605e9  af7a82cf4a449c05a69e5594e4a4eeb6\n4   503451ff079656b464ad5a8d1fd9d5f476a16c2d  6faf32fc346a5d3de680c7c3895aba3c\n..                                       ...                               ...\n95  421b77eb6e25e4022875b85896a9937f319605e9  a8726e0525f5ab7da46659c75a267a10\n96  421b77eb6e25e4022875b85896a9937f319605e9  b53e1c2ac61f5ac6c577115d4c80585b\n97  421b77eb6e25e4022875b85896a9937f319605e9  581e9982580905b20099384a9acf69bb\n98  421b77eb6e25e4022875b85896a9937f319605e9  bcaebf5a102b5b7b5c88e0987c73413d\n99  421b77eb6e25e4022875b85896a9937f319605e9  250cc8994b91bb901f60669e2387de25\n\n[100 rows x 2 columns]",
      "text/html": "<div>\n<style scoped>\n    .dataframe tbody tr th:only-of-type {\n        vertical-align: middle;\n    }\n\n    .dataframe tbody tr th {\n        vertical-align: top;\n    }\n\n    .dataframe thead th {\n        text-align: right;\n    }\n</style>\n<table border=\"1\" class=\"dataframe\">\n  <thead>\n    <tr style=\"text-align: right;\">\n      <th></th>\n      <th>sha</th>\n      <th>file_id</th>\n    </tr>\n  </thead>\n  <tbody>\n    <tr>\n      <th>0</th>\n      <td>421b77eb6e25e4022875b85896a9937f319605e9</td>\n      <td>10a5f1004ff2dd28b22f7f9afa36f383</td>\n    </tr>\n    <tr>\n      <th>1</th>\n      <td>421b77eb6e25e4022875b85896a9937f319605e9</td>\n      <td>89332d1ba456ba8c882048f633247f70</td>\n    </tr>\n    <tr>\n      <th>2</th>\n      <td>421b77eb6e25e4022875b85896a9937f319605e9</td>\n      <td>1684c91333183206aea75054a6bfafdf</td>\n    </tr>\n    <tr>\n      <th>3</th>\n      <td>421b77eb6e25e4022875b85896a9937f319605e9</td>\n      <td>af7a82cf4a449c05a69e5594e4a4eeb6</td>\n    </tr>\n    <tr>\n      <th>4</th>\n      <td>503451ff079656b464ad5a8d1fd9d5f476a16c2d</td>\n      <td>6faf32fc346a5d3de680c7c3895aba3c</td>\n    </tr>\n    <tr>\n      <th>...</th>\n      <td>...</td>\n      <td>...</td>\n    </tr>\n    <tr>\n      <th>95</th>\n      <td>421b77eb6e25e4022875b85896a9937f319605e9</td>\n      <td>a8726e0525f5ab7da46659c75a267a10</td>\n    </tr>\n    <tr>\n      <th>96</th>\n      <td>421b77eb6e25e4022875b85896a9937f319605e9</td>\n      <td>b53e1c2ac61f5ac6c577115d4c80585b</td>\n    </tr>\n    <tr>\n      <th>97</th>\n      <td>421b77eb6e25e4022875b85896a9937f319605e9</td>\n      <td>581e9982580905b20099384a9acf69bb</td>\n    </tr>\n    <tr>\n      <th>98</th>\n      <td>421b77eb6e25e4022875b85896a9937f319605e9</td>\n      <td>bcaebf5a102b5b7b5c88e0987c73413d</td>\n    </tr>\n    <tr>\n      <th>99</th>\n      <td>421b77eb6e25e4022875b85896a9937f319605e9</td>\n      <td>250cc8994b91bb901f60669e2387de25</td>\n    </tr>\n  </tbody>\n</table>\n<p>100 rows × 2 columns</p>\n</div>"
     },
     "execution_count": 132,
     "metadata": {},
     "output_type": "execute_result"
    }
   ],
   "source": [
    "df_commits"
   ],
   "metadata": {
    "collapsed": false,
    "pycharm": {
     "name": "#%%\n"
    }
   }
  },
  {
   "cell_type": "code",
   "execution_count": 133,
   "outputs": [
    {
     "name": "stdout",
     "output_type": "stream",
     "text": [
      "(5552, 2)\n",
      "<class 'pandas.core.frame.DataFrame'>\n",
      "RangeIndex: 5552 entries, 0 to 5551\n",
      "Data columns (total 2 columns):\n",
      " #   Column     Non-Null Count  Dtype \n",
      "---  ------     --------------  ----- \n",
      " 0   file_id    5552 non-null   object\n",
      " 1   file_name  5552 non-null   object\n",
      "dtypes: object(2)\n",
      "memory usage: 1.1 MB\n"
     ]
    }
   ],
   "source": [
    "df_files = pd.DataFrame(file_qs)\n",
    "df_files[\"file_id\"] = df_files[\"file_id\"].astype(\"str\")\n",
    "print(df_files.shape)\n",
    "df_files.info(memory_usage=\"deep\")"
   ],
   "metadata": {
    "collapsed": false,
    "pycharm": {
     "name": "#%%\n"
    }
   }
  },
  {
   "cell_type": "code",
   "execution_count": 134,
   "outputs": [
    {
     "data": {
      "text/plain": "                            file_id  \\\n0  45f215578976c5f77317d3b5788561ce   \n1  7cfbb3ad01ece9d907bf5234d1e85ba7   \n2  c0eb8cbab7743c73ae76525bdad64c40   \n3  e0d88f3bd314687d9ec0d5ba5012b516   \n4  71871959fe4a466bfe5b4038fb517c94   \n\n                                           file_name  \n0    src/assets/sass/list-lander/desktop/_table.scss  \n1  src/assets/sass/list-lander/desktop/_more-list...  \n2  src/assets/sass/list-lander/desktop/lists/clou...  \n3  src/assets/sass/list-lander/desktop/lists/cana...  \n4  src/assets/sass/list-lander/desktop/lists/shar...  ",
      "text/html": "<div>\n<style scoped>\n    .dataframe tbody tr th:only-of-type {\n        vertical-align: middle;\n    }\n\n    .dataframe tbody tr th {\n        vertical-align: top;\n    }\n\n    .dataframe thead th {\n        text-align: right;\n    }\n</style>\n<table border=\"1\" class=\"dataframe\">\n  <thead>\n    <tr style=\"text-align: right;\">\n      <th></th>\n      <th>file_id</th>\n      <th>file_name</th>\n    </tr>\n  </thead>\n  <tbody>\n    <tr>\n      <th>0</th>\n      <td>45f215578976c5f77317d3b5788561ce</td>\n      <td>src/assets/sass/list-lander/desktop/_table.scss</td>\n    </tr>\n    <tr>\n      <th>1</th>\n      <td>7cfbb3ad01ece9d907bf5234d1e85ba7</td>\n      <td>src/assets/sass/list-lander/desktop/_more-list...</td>\n    </tr>\n    <tr>\n      <th>2</th>\n      <td>c0eb8cbab7743c73ae76525bdad64c40</td>\n      <td>src/assets/sass/list-lander/desktop/lists/clou...</td>\n    </tr>\n    <tr>\n      <th>3</th>\n      <td>e0d88f3bd314687d9ec0d5ba5012b516</td>\n      <td>src/assets/sass/list-lander/desktop/lists/cana...</td>\n    </tr>\n    <tr>\n      <th>4</th>\n      <td>71871959fe4a466bfe5b4038fb517c94</td>\n      <td>src/assets/sass/list-lander/desktop/lists/shar...</td>\n    </tr>\n  </tbody>\n</table>\n</div>"
     },
     "execution_count": 134,
     "metadata": {},
     "output_type": "execute_result"
    }
   ],
   "source": [
    "df_files.head()"
   ],
   "metadata": {
    "collapsed": false,
    "pycharm": {
     "name": "#%%\n"
    }
   }
  },
  {
   "cell_type": "code",
   "execution_count": 135,
   "outputs": [
    {
     "name": "stdout",
     "output_type": "stream",
     "text": [
      "(555200, 4)\n",
      "<class 'pandas.core.frame.DataFrame'>\n",
      "Int64Index: 555200 entries, 0 to 338669\n",
      "Data columns (total 4 columns):\n",
      " #   Column     Non-Null Count   Dtype \n",
      "---  ------     --------------   ----- \n",
      " 0   sha        555200 non-null  object\n",
      " 1   file_id_x  555200 non-null  object\n",
      " 2   file_id_y  555200 non-null  object\n",
      " 3   file_name  555200 non-null  object\n",
      "dtypes: object(4)\n",
      "memory usage: 209.1 MB\n"
     ]
    }
   ],
   "source": [
    "df_sum = df_commits.merge(df_files, how=\"cross\").sort_values(by=[\"sha\"])\n",
    "print(df_sum.shape)\n",
    "df_sum.info(memory_usage=\"deep\")"
   ],
   "metadata": {
    "collapsed": false,
    "pycharm": {
     "name": "#%%\n"
    }
   }
  },
  {
   "cell_type": "code",
   "execution_count": 140,
   "outputs": [
    {
     "name": "stdout",
     "output_type": "stream",
     "text": [
      "(555200, 5)\n",
      "<class 'pandas.core.frame.DataFrame'>\n",
      "Int64Index: 555200 entries, 0 to 338669\n",
      "Data columns (total 5 columns):\n",
      " #   Column     Non-Null Count   Dtype \n",
      "---  ------     --------------   ----- \n",
      " 0   sha        555200 non-null  object\n",
      " 1   file_id_x  555200 non-null  object\n",
      " 2   file_id_y  555200 non-null  object\n",
      " 3   file_name  555200 non-null  object\n",
      " 4   state      555200 non-null  int8  \n",
      "dtypes: int8(1), object(4)\n",
      "memory usage: 209.6 MB\n"
     ]
    }
   ],
   "source": [
    "df_sum[\"state\"] = df_sum.apply(lambda x: 1 if x.loc[\"file_id_x\"] == x.loc[\"file_id_y\"] else 0, axis=1)\n",
    "df_sum[\"state\"] = df_sum[\"state\"].astype(\"int8\")\n",
    "print(df_sum.shape)\n",
    "df_sum.info(memory_usage=\"deep\")"
   ],
   "metadata": {
    "collapsed": false,
    "pycharm": {
     "name": "#%%\n"
    }
   }
  },
  {
   "cell_type": "code",
   "execution_count": 141,
   "outputs": [
    {
     "data": {
      "text/plain": "                                             sha  \\\n0       421b77eb6e25e4022875b85896a9937f319605e9   \n351634  421b77eb6e25e4022875b85896a9937f319605e9   \n351633  421b77eb6e25e4022875b85896a9937f319605e9   \n351632  421b77eb6e25e4022875b85896a9937f319605e9   \n351631  421b77eb6e25e4022875b85896a9937f319605e9   \n...                                          ...   \n334965  7dc174e02612fd51428ac30bde0d0d3079f7e890   \n334964  7dc174e02612fd51428ac30bde0d0d3079f7e890   \n334963  7dc174e02612fd51428ac30bde0d0d3079f7e890   \n334971  7dc174e02612fd51428ac30bde0d0d3079f7e890   \n338669  7dc174e02612fd51428ac30bde0d0d3079f7e890   \n\n                               file_id_x                         file_id_y  \\\n0       10a5f1004ff2dd28b22f7f9afa36f383  45f215578976c5f77317d3b5788561ce   \n351634  32607347f8126e6534ebc7ebaec4853d  84dff5560ffd49ac8c8b75ffb0801d4c   \n351633  32607347f8126e6534ebc7ebaec4853d  b7a4fe6d376bc063522956089eb42406   \n351632  32607347f8126e6534ebc7ebaec4853d  c59ddb7836960e54adbadd3441b5bd78   \n351631  32607347f8126e6534ebc7ebaec4853d  576e34d2f2fe6f3df9e84a77ee724e85   \n...                                  ...                               ...   \n334965  d41d8cd98f00b204e9800998ecf8427e  5f02081a0e4eb6dafe4255f50049dc93   \n334964  d41d8cd98f00b204e9800998ecf8427e  3c8f4fb9d32f1d36712f20387005d3bb   \n334963  d41d8cd98f00b204e9800998ecf8427e  4c337a7d85c88510676d0df56718a3ca   \n334971  d41d8cd98f00b204e9800998ecf8427e  c323d43d18fd1c9588b6ba0d303e9686   \n338669  d41d8cd98f00b204e9800998ecf8427e  289ff1e801d9e75bcb45126612a65038   \n\n                                                file_name  state  \n0         src/assets/sass/list-lander/desktop/_table.scss      0  \n351634  src/views/chansec/cards/four_articles_across_c...      0  \n351633  src/views/chansec/cards/feature-and-stream-pre...      0  \n351632  src/views/chansec/cards/three-article-feature-...      0  \n351631   src/views/chansec/cards/special-feature-card.pug      0  \n...                                                   ...    ...  \n334965                  src/views/shared/ads-wrappers.pug      0  \n334964                  src/views/shared/social-media.pug      0  \n334963                 src/views/shared/share-buttons.pug      0  \n334971         src/views/shared/user-management-modal.pug      0  \n338669                 Jenkinsfile-cypress-tracking-smoke      0  \n\n[555200 rows x 5 columns]",
      "text/html": "<div>\n<style scoped>\n    .dataframe tbody tr th:only-of-type {\n        vertical-align: middle;\n    }\n\n    .dataframe tbody tr th {\n        vertical-align: top;\n    }\n\n    .dataframe thead th {\n        text-align: right;\n    }\n</style>\n<table border=\"1\" class=\"dataframe\">\n  <thead>\n    <tr style=\"text-align: right;\">\n      <th></th>\n      <th>sha</th>\n      <th>file_id_x</th>\n      <th>file_id_y</th>\n      <th>file_name</th>\n      <th>state</th>\n    </tr>\n  </thead>\n  <tbody>\n    <tr>\n      <th>0</th>\n      <td>421b77eb6e25e4022875b85896a9937f319605e9</td>\n      <td>10a5f1004ff2dd28b22f7f9afa36f383</td>\n      <td>45f215578976c5f77317d3b5788561ce</td>\n      <td>src/assets/sass/list-lander/desktop/_table.scss</td>\n      <td>0</td>\n    </tr>\n    <tr>\n      <th>351634</th>\n      <td>421b77eb6e25e4022875b85896a9937f319605e9</td>\n      <td>32607347f8126e6534ebc7ebaec4853d</td>\n      <td>84dff5560ffd49ac8c8b75ffb0801d4c</td>\n      <td>src/views/chansec/cards/four_articles_across_c...</td>\n      <td>0</td>\n    </tr>\n    <tr>\n      <th>351633</th>\n      <td>421b77eb6e25e4022875b85896a9937f319605e9</td>\n      <td>32607347f8126e6534ebc7ebaec4853d</td>\n      <td>b7a4fe6d376bc063522956089eb42406</td>\n      <td>src/views/chansec/cards/feature-and-stream-pre...</td>\n      <td>0</td>\n    </tr>\n    <tr>\n      <th>351632</th>\n      <td>421b77eb6e25e4022875b85896a9937f319605e9</td>\n      <td>32607347f8126e6534ebc7ebaec4853d</td>\n      <td>c59ddb7836960e54adbadd3441b5bd78</td>\n      <td>src/views/chansec/cards/three-article-feature-...</td>\n      <td>0</td>\n    </tr>\n    <tr>\n      <th>351631</th>\n      <td>421b77eb6e25e4022875b85896a9937f319605e9</td>\n      <td>32607347f8126e6534ebc7ebaec4853d</td>\n      <td>576e34d2f2fe6f3df9e84a77ee724e85</td>\n      <td>src/views/chansec/cards/special-feature-card.pug</td>\n      <td>0</td>\n    </tr>\n    <tr>\n      <th>...</th>\n      <td>...</td>\n      <td>...</td>\n      <td>...</td>\n      <td>...</td>\n      <td>...</td>\n    </tr>\n    <tr>\n      <th>334965</th>\n      <td>7dc174e02612fd51428ac30bde0d0d3079f7e890</td>\n      <td>d41d8cd98f00b204e9800998ecf8427e</td>\n      <td>5f02081a0e4eb6dafe4255f50049dc93</td>\n      <td>src/views/shared/ads-wrappers.pug</td>\n      <td>0</td>\n    </tr>\n    <tr>\n      <th>334964</th>\n      <td>7dc174e02612fd51428ac30bde0d0d3079f7e890</td>\n      <td>d41d8cd98f00b204e9800998ecf8427e</td>\n      <td>3c8f4fb9d32f1d36712f20387005d3bb</td>\n      <td>src/views/shared/social-media.pug</td>\n      <td>0</td>\n    </tr>\n    <tr>\n      <th>334963</th>\n      <td>7dc174e02612fd51428ac30bde0d0d3079f7e890</td>\n      <td>d41d8cd98f00b204e9800998ecf8427e</td>\n      <td>4c337a7d85c88510676d0df56718a3ca</td>\n      <td>src/views/shared/share-buttons.pug</td>\n      <td>0</td>\n    </tr>\n    <tr>\n      <th>334971</th>\n      <td>7dc174e02612fd51428ac30bde0d0d3079f7e890</td>\n      <td>d41d8cd98f00b204e9800998ecf8427e</td>\n      <td>c323d43d18fd1c9588b6ba0d303e9686</td>\n      <td>src/views/shared/user-management-modal.pug</td>\n      <td>0</td>\n    </tr>\n    <tr>\n      <th>338669</th>\n      <td>7dc174e02612fd51428ac30bde0d0d3079f7e890</td>\n      <td>d41d8cd98f00b204e9800998ecf8427e</td>\n      <td>289ff1e801d9e75bcb45126612a65038</td>\n      <td>Jenkinsfile-cypress-tracking-smoke</td>\n      <td>0</td>\n    </tr>\n  </tbody>\n</table>\n<p>555200 rows × 5 columns</p>\n</div>"
     },
     "execution_count": 141,
     "metadata": {},
     "output_type": "execute_result"
    }
   ],
   "source": [
    "df_sum"
   ],
   "metadata": {
    "collapsed": false,
    "pycharm": {
     "name": "#%%\n"
    }
   }
  },
  {
   "cell_type": "code",
   "execution_count": 142,
   "outputs": [],
   "source": [
    "df_sum[[\"sha\", \"file_name\", \"state\"]].to_csv(\"./CMerged.csv\", sep=\"\\t\", index=False, header=True)"
   ],
   "metadata": {
    "collapsed": false,
    "pycharm": {
     "name": "#%%\n"
    }
   }
  },
  {
   "cell_type": "code",
   "execution_count": 139,
   "outputs": [],
   "source": [
    "# df_sum[[\"sha\", \"file_name\", \"changed\"]].to_csv(\"./C421b77eb6e25e4022875b85896a9937f319605e9.csv\", sep=\"\\t\", index=False, header=True)"
   ],
   "metadata": {
    "collapsed": false,
    "pycharm": {
     "name": "#%%\n"
    }
   }
  }
 ],
 "metadata": {
  "kernelspec": {
   "display_name": "Python 3",
   "language": "python",
   "name": "python3"
  },
  "language_info": {
   "codemirror_mode": {
    "name": "ipython",
    "version": 2
   },
   "file_extension": ".py",
   "mimetype": "text/x-python",
   "name": "python",
   "nbconvert_exporter": "python",
   "pygments_lexer": "ipython2",
   "version": "2.7.6"
  }
 },
 "nbformat": 4,
 "nbformat_minor": 0
}