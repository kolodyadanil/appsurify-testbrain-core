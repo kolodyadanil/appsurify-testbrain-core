{
 "cells": [
  {
   "cell_type": "code",
   "execution_count": 26,
   "metadata": {
    "collapsed": true,
    "pycharm": {
     "name": "#%%\n"
    }
   },
   "outputs": [
    {
     "data": {
      "text/plain": "'/Users/whenessel/Development/PycharmProjects/appsurify-testbrain-core/src'"
     },
     "execution_count": 26,
     "metadata": {},
     "output_type": "execute_result"
    }
   ],
   "source": [
    "%pwd"
   ]
  },
  {
   "cell_type": "code",
   "execution_count": 27,
   "outputs": [],
   "source": [
    "\n",
    "import os\n",
    "import sys\n",
    "from asgiref.sync import sync_to_async\n",
    "import pandas as pd\n",
    "\n",
    "os.environ.setdefault(\"DJANGO_SETTINGS_MODULE\", \"system.settings\")\n",
    "os.environ[\"DJANGO_ALLOW_ASYNC_UNSAFE\"] = \"false\"\n",
    "\n",
    "import django\n",
    "\n",
    "django.setup()\n",
    "\n",
    "from django.conf import settings\n",
    "from django.db.models import Subquery, OuterRef, Exists, Q, Value, F, Case, When\n",
    "from django.db.models.functions import MD5, Coalesce\n",
    "from applications.vcs.models import Commit, File, FileChange\n",
    "from applications.testing.models import TestRunResult"
   ],
   "metadata": {
    "collapsed": false,
    "pycharm": {
     "name": "#%%\n"
    }
   }
  },
  {
   "cell_type": "code",
   "execution_count": 28,
   "outputs": [],
   "source": [
    "testrun_results_qs = TestRunResult.objects.filter(project_id=469, commit__sha__in=[\"421b77eb6e25e4022875b85896a9937f319605e9\", \"7dc174e02612fd51428ac30bde0d0d3079f7e890\", \"503451ff079656b464ad5a8d1fd9d5f476a16c2d\"])\\\n",
    "    .annotate(sha=F(\"commit__sha\"), state=Case(When(status=\"pass\", then=0), default=1)).values(\"sha\", \"test_name\", \"state\")"
   ],
   "metadata": {
    "collapsed": false,
    "pycharm": {
     "name": "#%%\n"
    }
   }
  },
  {
   "cell_type": "code",
   "execution_count": 29,
   "outputs": [
    {
     "data": {
      "text/plain": "<QuerySet [{'test_name': 'Mobile Video Standalone Ads Checks Ads: Mobile brandvoice /video/6209205095001/how-maya-french-is-driving-innovation/ should visit the page', 'sha': '421b77eb6e25e4022875b85896a9937f319605e9', 'state': 0}, {'test_name': 'Mobile Video Standalone Ads Checks Ads: Mobile brandvoice /video/6209205095001/how-maya-french-is-driving-innovation/ should have 2 ads', 'sha': '421b77eb6e25e4022875b85896a9937f319605e9', 'state': 0}]>"
     },
     "execution_count": 29,
     "metadata": {},
     "output_type": "execute_result"
    }
   ],
   "source": [
    "testrun_results_qs[:2]"
   ],
   "metadata": {
    "collapsed": false,
    "pycharm": {
     "name": "#%%\n"
    }
   }
  },
  {
   "cell_type": "code",
   "execution_count": 30,
   "outputs": [
    {
     "name": "stdout",
     "output_type": "stream",
     "text": [
      "(28330, 3)\n",
      "<class 'pandas.core.frame.DataFrame'>\n",
      "RangeIndex: 28330 entries, 0 to 28329\n",
      "Data columns (total 3 columns):\n",
      " #   Column     Non-Null Count  Dtype \n",
      "---  ------     --------------  ----- \n",
      " 0   test_name  28330 non-null  object\n",
      " 1   sha        28330 non-null  object\n",
      " 2   state      28330 non-null  int8  \n",
      "dtypes: int8(1), object(2)\n",
      "memory usage: 8.8 MB\n"
     ]
    }
   ],
   "source": [
    "df_tests = pd.DataFrame(testrun_results_qs)\n",
    "df_tests[\"state\"] = df_tests[\"state\"].astype(\"int8\")\n",
    "print(df_tests.shape)\n",
    "df_tests.info(memory_usage=\"deep\")"
   ],
   "metadata": {
    "collapsed": false,
    "pycharm": {
     "name": "#%%\n"
    }
   }
  },
  {
   "cell_type": "code",
   "execution_count": 31,
   "outputs": [
    {
     "data": {
      "text/plain": "                                               test_name  \\\n0      Mobile Video Standalone Ads Checks Ads: Mobile...   \n1      Mobile Video Standalone Ads Checks Ads: Mobile...   \n2      Mobile Video Standalone Ads Checks Ads: Mobile...   \n3      Mobile Video Standalone Ads Checks Ads: Mobile...   \n4      Mobile Video Standalone Ads Checks Ads: Mobile...   \n...                                                  ...   \n28325  Mobile Homepage Functional Checks should visit...   \n28326  Mobile Homepage Functional Checks Universal He...   \n28327  Mobile Homepage Functional Checks Universal He...   \n28328  Mobile Homepage Functional Checks Universal He...   \n28329  Mobile Homepage Functional Checks Channels Hea...   \n\n                                            sha  state  \n0      421b77eb6e25e4022875b85896a9937f319605e9      0  \n1      421b77eb6e25e4022875b85896a9937f319605e9      0  \n2      421b77eb6e25e4022875b85896a9937f319605e9      0  \n3      421b77eb6e25e4022875b85896a9937f319605e9      0  \n4      421b77eb6e25e4022875b85896a9937f319605e9      0  \n...                                         ...    ...  \n28325  7dc174e02612fd51428ac30bde0d0d3079f7e890      0  \n28326  7dc174e02612fd51428ac30bde0d0d3079f7e890      0  \n28327  7dc174e02612fd51428ac30bde0d0d3079f7e890      0  \n28328  7dc174e02612fd51428ac30bde0d0d3079f7e890      0  \n28329  7dc174e02612fd51428ac30bde0d0d3079f7e890      0  \n\n[28330 rows x 3 columns]",
      "text/html": "<div>\n<style scoped>\n    .dataframe tbody tr th:only-of-type {\n        vertical-align: middle;\n    }\n\n    .dataframe tbody tr th {\n        vertical-align: top;\n    }\n\n    .dataframe thead th {\n        text-align: right;\n    }\n</style>\n<table border=\"1\" class=\"dataframe\">\n  <thead>\n    <tr style=\"text-align: right;\">\n      <th></th>\n      <th>test_name</th>\n      <th>sha</th>\n      <th>state</th>\n    </tr>\n  </thead>\n  <tbody>\n    <tr>\n      <th>0</th>\n      <td>Mobile Video Standalone Ads Checks Ads: Mobile...</td>\n      <td>421b77eb6e25e4022875b85896a9937f319605e9</td>\n      <td>0</td>\n    </tr>\n    <tr>\n      <th>1</th>\n      <td>Mobile Video Standalone Ads Checks Ads: Mobile...</td>\n      <td>421b77eb6e25e4022875b85896a9937f319605e9</td>\n      <td>0</td>\n    </tr>\n    <tr>\n      <th>2</th>\n      <td>Mobile Video Standalone Ads Checks Ads: Mobile...</td>\n      <td>421b77eb6e25e4022875b85896a9937f319605e9</td>\n      <td>0</td>\n    </tr>\n    <tr>\n      <th>3</th>\n      <td>Mobile Video Standalone Ads Checks Ads: Mobile...</td>\n      <td>421b77eb6e25e4022875b85896a9937f319605e9</td>\n      <td>0</td>\n    </tr>\n    <tr>\n      <th>4</th>\n      <td>Mobile Video Standalone Ads Checks Ads: Mobile...</td>\n      <td>421b77eb6e25e4022875b85896a9937f319605e9</td>\n      <td>0</td>\n    </tr>\n    <tr>\n      <th>...</th>\n      <td>...</td>\n      <td>...</td>\n      <td>...</td>\n    </tr>\n    <tr>\n      <th>28325</th>\n      <td>Mobile Homepage Functional Checks should visit...</td>\n      <td>7dc174e02612fd51428ac30bde0d0d3079f7e890</td>\n      <td>0</td>\n    </tr>\n    <tr>\n      <th>28326</th>\n      <td>Mobile Homepage Functional Checks Universal He...</td>\n      <td>7dc174e02612fd51428ac30bde0d0d3079f7e890</td>\n      <td>0</td>\n    </tr>\n    <tr>\n      <th>28327</th>\n      <td>Mobile Homepage Functional Checks Universal He...</td>\n      <td>7dc174e02612fd51428ac30bde0d0d3079f7e890</td>\n      <td>0</td>\n    </tr>\n    <tr>\n      <th>28328</th>\n      <td>Mobile Homepage Functional Checks Universal He...</td>\n      <td>7dc174e02612fd51428ac30bde0d0d3079f7e890</td>\n      <td>0</td>\n    </tr>\n    <tr>\n      <th>28329</th>\n      <td>Mobile Homepage Functional Checks Channels Hea...</td>\n      <td>7dc174e02612fd51428ac30bde0d0d3079f7e890</td>\n      <td>0</td>\n    </tr>\n  </tbody>\n</table>\n<p>28330 rows × 3 columns</p>\n</div>"
     },
     "execution_count": 31,
     "metadata": {},
     "output_type": "execute_result"
    }
   ],
   "source": [
    "df_tests"
   ],
   "metadata": {
    "collapsed": false,
    "pycharm": {
     "name": "#%%\n"
    }
   }
  },
  {
   "cell_type": "code",
   "execution_count": 32,
   "outputs": [],
   "source": [
    "df_tests[[\"sha\", \"test_name\", \"state\"]].to_csv(\"./TMerged.csv\", sep=\"\\t\", index=False, header=True)"
   ],
   "metadata": {
    "collapsed": false,
    "pycharm": {
     "name": "#%%\n"
    }
   }
  },
  {
   "cell_type": "code",
   "execution_count": 33,
   "outputs": [],
   "source": [
    "# df_tests[[\"sha\", \"test_name\", \"state\"]].to_csv(\"./T421b77eb6e25e4022875b85896a9937f319605e9.csv\", sep=\"\\t\", index=False, header=True)"
   ],
   "metadata": {
    "collapsed": false,
    "pycharm": {
     "name": "#%%\n"
    }
   }
  }
 ],
 "metadata": {
  "kernelspec": {
   "display_name": "Python 3",
   "language": "python",
   "name": "python3"
  },
  "language_info": {
   "codemirror_mode": {
    "name": "ipython",
    "version": 2
   },
   "file_extension": ".py",
   "mimetype": "text/x-python",
   "name": "python",
   "nbconvert_exporter": "python",
   "pygments_lexer": "ipython2",
   "version": "2.7.6"
  }
 },
 "nbformat": 4,
 "nbformat_minor": 0
}